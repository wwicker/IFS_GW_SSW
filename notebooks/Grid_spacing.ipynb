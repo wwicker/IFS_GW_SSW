{
 "cells": [
  {
   "cell_type": "markdown",
   "id": "8af62877-e12c-4c2c-86da-a9e1b6fed001",
   "metadata": {},
   "source": [
    "# Grid spacing\n",
    "\n",
    "Create Figure 1."
   ]
  },
  {
   "cell_type": "code",
   "execution_count": null,
   "id": "e46cfb17-f2f5-4ab2-abc2-706159bb2428",
   "metadata": {},
   "outputs": [],
   "source": [
    "import numpy as np\n",
    "import xarray as xr\n",
    "import matplotlib.pyplot as plt\n",
    "\n",
    "plt.rcParams.update({'font.size': 14})"
   ]
  },
  {
   "cell_type": "code",
   "execution_count": null,
   "id": "230dcbcb-b76d-449f-a0c0-d4386db47cf6",
   "metadata": {},
   "outputs": [],
   "source": [
    "def grid_spacing(definition):\n",
    "    '''\n",
    "    '''\n",
    "    # scale height\n",
    "    H = 7000\n",
    "    # reference pressure in hPa\n",
    "    ps = 1013.25\n",
    "    kappa = 0.2854\n",
    "    # vertical coordinate with p in hPa\n",
    "    log_pressure = lambda p: -H * np.log(p / ps)\n",
    "    \n",
    "    AandB = np.loadtxt(definition,skiprows=1)\n",
    "    level = AandB[:,0]\n",
    "    A = AandB[:,1]\n",
    "    B = AandB[:,2]\n",
    "    \n",
    "    height = log_pressure((A + B * 101325) / 100)\n",
    "    height = np.append(height,0)\n",
    "    \n",
    "    spacing = height[:-1] - height[1:]\n",
    "    \n",
    "    return xr.DataArray(spacing,coords=dict(height=height[:-1]))\n",
    "\n",
    "def plot_grid_spacing(vert,H=7000):\n",
    "    '''\n",
    "    '''\n",
    "    fig = plt.figure(figsize=(8,6))\n",
    "    ax = plt.axes()\n",
    "    \n",
    "    L91 = grid_spacing('../data/AandB_91L.txt') / 1000\n",
    "    L91['height'] = L91['height'] /1000\n",
    "    \n",
    "    L137 = grid_spacing('../data/AandB_137L.txt') / 1000\n",
    "    L137['height'] = L137['height'] /1000\n",
    "\n",
    "    L198 = grid_spacing('../data/AandB_198L.txt') / 1000\n",
    "    L198['height'] = L198['height'] /1000\n",
    "    \n",
    "    L91.plot(ax=ax,y='height',label='L91',linestyle='--',linewidth=4)\n",
    "    L137.plot(ax=ax,y='height',label='L137',linestyle=':',linewidth=4)\n",
    "    L198.plot(ax=ax,y='height',label='L198',linewidth=4)\n",
    "    \n",
    "    ax.plot([vert/1000,vert/1000],[0,64],'k-')\n",
    "    \n",
    "    ax.legend()\n",
    "    \n",
    "    ax.set_ylim([0,64])\n",
    "    ax.set_xlim((0,4))\n",
    "    ax.set_xlabel('grid spacing [km]')\n",
    "    ax.set_ylabel('height [km]')\n",
    "    \n",
    "    pax = ax.twinx()\n",
    "    ylim = ax.get_ylim()\n",
    "    pax.set_ylim(1013.25*np.exp(-np.array(ylim)*1000/H))\n",
    "    pax.set_yscale('log')\n",
    "    pax.set_ylabel('pressure [hPa]')\n",
    "    \n",
    "    plt.tight_layout()\n",
    "    \n",
    "\n",
    "    \n",
    "plot_grid_spacing(100)"
   ]
  },
  {
   "cell_type": "code",
   "execution_count": null,
   "id": "ba5574a0-49cd-42fc-87b4-abe58829f50b",
   "metadata": {},
   "outputs": [],
   "source": []
  }
 ],
 "metadata": {
  "kernelspec": {
   "display_name": "Python [conda env:py3_std]",
   "language": "python",
   "name": "conda-env-py3_std-py"
  },
  "language_info": {
   "codemirror_mode": {
    "name": "ipython",
    "version": 3
   },
   "file_extension": ".py",
   "mimetype": "text/x-python",
   "name": "python",
   "nbconvert_exporter": "python",
   "pygments_lexer": "ipython3",
   "version": "3.10.0"
  }
 },
 "nbformat": 4,
 "nbformat_minor": 5
}
